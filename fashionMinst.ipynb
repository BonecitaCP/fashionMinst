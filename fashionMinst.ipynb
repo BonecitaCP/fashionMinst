{
 "cells": [
  {
   "cell_type": "code",
   "execution_count": null,
   "id": "b519af98-c3f5-4c79-83fb-d6cf386009b6",
   "metadata": {
    "tags": []
   },
   "outputs": [],
   "source": [
    "#Librerias iniciales"
   ]
  },
  {
   "cell_type": "code",
   "execution_count": null,
   "id": "cc6d60b8-7ed9-4a44-ad45-d76a08553119",
   "metadata": {
    "tags": []
   },
   "outputs": [],
   "source": [
    "import numpy as np\n",
    "import keras\n",
    "from keras import layers"
   ]
  },
  {
   "cell_type": "code",
   "execution_count": null,
   "id": "70b1a6d9-6727-4e61-a87c-d16f088fef5e",
   "metadata": {
    "tags": []
   },
   "outputs": [],
   "source": [
    "# Parametros del modelo y clases\n",
    "num_classes = 10\n",
    "input_shape = (28, 28, 1)"
   ]
  },
  {
   "cell_type": "code",
   "execution_count": null,
   "id": "ae91aa21-3738-4bec-815f-98209ab658d3",
   "metadata": {
    "tags": []
   },
   "outputs": [],
   "source": [
    "# Carga de los datos\n",
    "(x_train, y_train), (x_test, y_test) = keras.datasets.fashion_mnist.load_data()"
   ]
  },
  {
   "cell_type": "code",
   "execution_count": null,
   "id": "e29d08cd-4711-4581-9ef1-6220492c0676",
   "metadata": {
    "tags": []
   },
   "outputs": [],
   "source": [
    "#Revision de tamaños"
   ]
  },
  {
   "cell_type": "code",
   "execution_count": null,
   "id": "0799b138-edca-4e1d-9f1a-b29bf3110148",
   "metadata": {
    "tags": []
   },
   "outputs": [],
   "source": [
    "x_train.shape"
   ]
  },
  {
   "cell_type": "code",
   "execution_count": null,
   "id": "6b7d1ad7-249c-43d6-834f-c984fe4f05e3",
   "metadata": {
    "tags": []
   },
   "outputs": [],
   "source": [
    "y_train.shape"
   ]
  },
  {
   "cell_type": "code",
   "execution_count": null,
   "id": "d2234f69-1e9e-4742-bd70-9ea7f7a7021f",
   "metadata": {
    "tags": []
   },
   "outputs": [],
   "source": [
    "x_test.shape"
   ]
  },
  {
   "cell_type": "code",
   "execution_count": null,
   "id": "9ed16701-81e9-474f-91ee-e45ca5ae10c1",
   "metadata": {
    "tags": []
   },
   "outputs": [],
   "source": [
    "y_test.shape"
   ]
  },
  {
   "cell_type": "code",
   "execution_count": null,
   "id": "a24b3b19-6615-43a5-bc46-ce9cb44cc35a",
   "metadata": {
    "tags": []
   },
   "outputs": [],
   "source": [
    "assert x_train.shape == (60000, 28, 28)\n",
    "assert x_test.shape == (10000, 28, 28)\n",
    "assert y_train.shape == (60000,)\n",
    "assert y_test.shape == (10000,)"
   ]
  },
  {
   "cell_type": "code",
   "execution_count": null,
   "id": "4be53676-e1ab-4beb-9fae-b1c108c92eca",
   "metadata": {
    "tags": []
   },
   "outputs": [],
   "source": [
    "# Transformacion de escala de imagenes a binario\n",
    "x_train = x_train.astype(\"float32\") / 255\n",
    "x_test = x_test.astype(\"float32\") / 255"
   ]
  },
  {
   "cell_type": "code",
   "execution_count": null,
   "id": "0ada0472-56d1-46e5-abd4-4c8e4bdbd3f6",
   "metadata": {
    "tags": []
   },
   "outputs": [],
   "source": [
    "#Validacion de conjuntos"
   ]
  },
  {
   "cell_type": "code",
   "execution_count": null,
   "id": "6f9b9529-babd-43f3-94d6-f6170ab4ef63",
   "metadata": {
    "tags": []
   },
   "outputs": [],
   "source": [
    "#Adicion de dimencion a los conjuntos\n",
    "x_train = np.expand_dims(x_train, -1)\n",
    "x_test = np.expand_dims(x_test, -1)"
   ]
  },
  {
   "cell_type": "code",
   "execution_count": null,
   "id": "b9e3181f-bfc7-4b42-9f1d-dd3fc3edfce3",
   "metadata": {
    "tags": []
   },
   "outputs": [],
   "source": [
    "x_train.shape"
   ]
  },
  {
   "cell_type": "code",
   "execution_count": null,
   "id": "f118830e-8e6c-456b-b158-fccfc6fca02f",
   "metadata": {
    "tags": []
   },
   "outputs": [],
   "source": [
    "y_train.shape"
   ]
  },
  {
   "cell_type": "code",
   "execution_count": null,
   "id": "1734de03-4243-4458-af00-20694444eb36",
   "metadata": {
    "tags": []
   },
   "outputs": [],
   "source": [
    "x_test.shape"
   ]
  },
  {
   "cell_type": "code",
   "execution_count": null,
   "id": "a3190bde-3307-4444-838d-0a328129347f",
   "metadata": {
    "tags": []
   },
   "outputs": [],
   "source": [
    "y_test.shape"
   ]
  },
  {
   "cell_type": "code",
   "execution_count": null,
   "id": "f5e5b998-e785-4bef-9752-c9c049b54cbf",
   "metadata": {
    "tags": []
   },
   "outputs": [],
   "source": [
    "#Aplicacion del metodo one-hot encoding para asignar valores numericos a las categorias\n",
    "y_train_cat = keras.utils.to_categorical(y_train, num_classes)\n",
    "y_test_cat = keras.utils.to_categorical(y_test, num_classes)"
   ]
  },
  {
   "cell_type": "code",
   "execution_count": null,
   "id": "204794b9-6457-43f9-9c72-1caad50a8d2e",
   "metadata": {
    "tags": []
   },
   "outputs": [],
   "source": [
    "y_train_cat.shape"
   ]
  },
  {
   "cell_type": "code",
   "execution_count": null,
   "id": "3d492557-e2a8-42bd-a71a-1b36203fa38f",
   "metadata": {
    "tags": []
   },
   "outputs": [],
   "source": [
    "y_test_cat.shape"
   ]
  },
  {
   "cell_type": "code",
   "execution_count": null,
   "id": "cf9bb1c2-51e9-433f-93ea-b79d7fec0254",
   "metadata": {
    "tags": []
   },
   "outputs": [],
   "source": [
    "#Graficación de las imagenes"
   ]
  },
  {
   "cell_type": "code",
   "execution_count": null,
   "id": "e203e9bd-96f7-4bd4-996a-4c68bcd2ae6f",
   "metadata": {
    "tags": []
   },
   "outputs": [],
   "source": [
    "import matplotlib.pyplot as plt"
   ]
  },
  {
   "cell_type": "code",
   "execution_count": null,
   "id": "55528e7c-5ddd-4be1-a3fe-2606ddeca416",
   "metadata": {
    "tags": []
   },
   "outputs": [],
   "source": [
    "#Conjunto de entrenamiento"
   ]
  },
  {
   "cell_type": "code",
   "execution_count": null,
   "id": "4f63e58c-47e9-45f3-b4de-1c8a55a6cc83",
   "metadata": {
    "tags": []
   },
   "outputs": [],
   "source": [
    "plt.imshow(x_train[0], cmap='Greys')"
   ]
  },
  {
   "cell_type": "code",
   "execution_count": null,
   "id": "32109cb2-9b63-4706-98f9-09006630ac2e",
   "metadata": {
    "tags": []
   },
   "outputs": [],
   "source": [
    "# Conujunto de test"
   ]
  },
  {
   "cell_type": "code",
   "execution_count": null,
   "id": "5fee2206-52bf-4a3b-b2a0-2eed078b0518",
   "metadata": {
    "tags": []
   },
   "outputs": [],
   "source": [
    "plt.imshow(x_test[0], cmap='Greys')"
   ]
  },
  {
   "cell_type": "code",
   "execution_count": null,
   "id": "b6185bb6-eb95-4a0a-be30-bed5f4baea12",
   "metadata": {
    "tags": []
   },
   "outputs": [],
   "source": [
    "# Generar Modelo\n",
    "model = keras.Sequential(\n",
    "    [\n",
    "        keras.Input(shape=input_shape),\n",
    "        layers.Conv2D(32, kernel_size=(3, 3), activation=\"relu\"),\n",
    "        layers.MaxPooling2D(pool_size=(2, 2)),\n",
    "        layers.Conv2D(64, kernel_size=(3, 3), activation=\"relu\"),\n",
    "        layers.MaxPooling2D(pool_size=(2, 2)),\n",
    "        layers.Flatten(),\n",
    "        layers.Dropout(0.5),\n",
    "        layers.Dense(num_classes, activation=\"softmax\"),\n",
    "    ]\n",
    ")\n",
    "\n",
    "model.summary()"
   ]
  },
  {
   "cell_type": "code",
   "execution_count": null,
   "id": "4b154d36-3a17-468f-9876-494e1ad44669",
   "metadata": {
    "tags": []
   },
   "outputs": [],
   "source": [
    "# Configuracion de parametros de entrenamiento del modelo de entrenamiento\n",
    "batch_size = 152\n",
    "epochs = 27\n",
    "\n",
    "model.compile(loss=\"categorical_crossentropy\", optimizer=\"adam\", metrics=[\"accuracy\"])\n",
    "\n",
    "model.fit(x_train, y_train_cat, batch_size=batch_size, epochs=epochs, validation_split=0.1)"
   ]
  },
  {
   "cell_type": "code",
   "execution_count": null,
   "id": "00bb3308-206e-47f8-b41c-c7fe685c7094",
   "metadata": {},
   "outputs": [],
   "source": [
    "y_probs_train = model.predict(x_train)"
   ]
  },
  {
   "cell_type": "code",
   "execution_count": null,
   "id": "80ab296b-4557-4f80-b5ff-18695fb61ec2",
   "metadata": {
    "tags": []
   },
   "outputs": [],
   "source": [
    "y_preds_train = y_probs_train.argmax(axis=1)"
   ]
  },
  {
   "cell_type": "code",
   "execution_count": null,
   "id": "7df7cbb5-5ebc-4021-93ee-835b5060f317",
   "metadata": {
    "tags": []
   },
   "outputs": [],
   "source": [
    "from sklearn.metrics import confusion_matrix\n",
    "import seaborn as sns\n",
    "import matplotlib.pyplot as plt\n",
    "conf_matrix = confusion_matrix(y_preds_train,y_train)\n",
    "#cm=confusion_matrix(y_preds,y_test)\n",
    "plt.figure(figsize=(8, 6))\n",
    "sns.heatmap(conf_matrix, annot=True, fmt='d', cmap='Blues', xticklabels=np.unique(y_preds_train), yticklabels=np.unique(y_preds_train))\n",
    "plt.title('Matriz de Confusión')\n",
    "plt.xlabel('Predicciones')\n",
    "plt.ylabel('Etiquetas reales')\n",
    "plt.show()"
   ]
  },
  {
   "cell_type": "code",
   "execution_count": null,
   "id": "1adaad93-5d3d-4eed-aa22-96952383db21",
   "metadata": {
    "tags": []
   },
   "outputs": [],
   "source": [
    "# Configuracion de parametros de entrenamiento del modelo de entrenamiento\n",
    "batch_size = 132\n",
    "epochs = 21\n",
    "\n",
    "model.compile(loss=\"categorical_crossentropy\", optimizer=\"adam\", metrics=[\"accuracy\"])\n",
    "\n",
    "model.fit(x_test, y_test_cat, batch_size=batch_size, epochs=epochs, validation_split=0.1)"
   ]
  },
  {
   "cell_type": "code",
   "execution_count": null,
   "id": "7c85245f-54f6-4d70-86e0-88a717dd8cbd",
   "metadata": {
    "tags": []
   },
   "outputs": [],
   "source": [
    "y_probs = model.predict(x_test)"
   ]
  },
  {
   "cell_type": "code",
   "execution_count": null,
   "id": "c02609da-5430-4d4d-918d-5444291e06ad",
   "metadata": {
    "tags": []
   },
   "outputs": [],
   "source": [
    "y_preds = y_probs.argmax(axis=1)"
   ]
  },
  {
   "cell_type": "code",
   "execution_count": null,
   "id": "13580934-a199-4ab7-b497-c3d06268a22c",
   "metadata": {
    "tags": []
   },
   "outputs": [],
   "source": [
    "from sklearn.metrics import confusion_matrix\n",
    "import seaborn as sns\n",
    "import matplotlib.pyplot as plt\n",
    "conf_matrix = confusion_matrix(y_preds,y_test)\n",
    "#cm=confusion_matrix(y_preds,y_test)\n",
    "plt.figure(figsize=(8, 6))\n",
    "sns.heatmap(conf_matrix, annot=True, fmt='d', cmap='Blues', xticklabels=np.unique(y_preds), yticklabels=np.unique(y_preds))\n",
    "plt.title('Matriz de Confusión')\n",
    "plt.xlabel('Predicciones')\n",
    "plt.ylabel('Etiquetas reales')\n",
    "plt.show()\n"
   ]
  },
  {
   "cell_type": "code",
   "execution_count": null,
   "id": "cd77247c-ca52-454d-96da-87e6c75f2e1f",
   "metadata": {},
   "outputs": [],
   "source": []
  }
 ],
 "metadata": {
  "kernelspec": {
   "display_name": "Python 3 (ipykernel)",
   "language": "python",
   "name": "python3"
  },
  "language_info": {
   "codemirror_mode": {
    "name": "ipython",
    "version": 3
   },
   "file_extension": ".py",
   "mimetype": "text/x-python",
   "name": "python",
   "nbconvert_exporter": "python",
   "pygments_lexer": "ipython3",
   "version": "3.11.5"
  }
 },
 "nbformat": 4,
 "nbformat_minor": 5
}
